{
 "cells": [
  {
   "cell_type": "markdown",
   "id": "4774f8d3",
   "metadata": {},
   "source": [
    "# VDM Corner Testbed — Baseline vs VDM Regularizer (skeleton)\n",
    "This notebook loads a single YAML config and provides stub functions for:\n",
    "1) Baseline corner simulation; 2) VDM-regularized run; 3) Figures.\n",
    "\n",
    "> Replace the stubs with your solver. Keep the config as the single source of truth."
   ]
  },
  {
   "cell_type": "code",
   "execution_count": null,
   "id": "27884da4",
   "metadata": {},
   "outputs": [],
   "source": [
    "# Load config and show geometry\n",
    "import yaml, json, os\n",
    "import matplotlib.pyplot as plt\n",
    "from PIL import Image\n",
    "cfg_path = 'VDM_corner_config.yaml'\n",
    "assert os.path.exists(cfg_path), 'Put VDM_corner_config.yaml next to this notebook.'\n",
    "with open(cfg_path) as f:\n",
    "    CFG = yaml.safe_load(f)\n",
    "CFG"
   ]
  },
  {
   "cell_type": "code",
   "execution_count": null,
   "id": "919fb8ce",
   "metadata": {},
   "outputs": [],
   "source": [
    "# Display geometry figure (already generated)\n",
    "from IPython.display import Image as DImage, display\n",
    "if os.path.exists('VDM_Corner_Geometry.png'):\n",
    "    display(DImage(filename='VDM_Corner_Geometry.png'))\n",
    "else:\n",
    "    print('Geometry figure not found; regenerate if needed.')"
   ]
  },
  {
   "cell_type": "markdown",
   "id": "bb732335",
   "metadata": {},
   "source": [
    "## Baseline solver stub\n",
    "**Terse:** compute `u(x,y,t)` for rc, H, U0, ν with your preferred scheme.\n",
    "\n",
    "**Expanded:** Implement your 2‑D solver (FD/FE/LBM). Enforce inlet Dirichlet, walls no‑slip, outlet Neumann. Save time trace of `max|u|`, and snapshots of streamlines/vorticity at a chosen time."
   ]
  },
  {
   "cell_type": "code",
   "execution_count": null,
   "id": "121e30d4",
   "metadata": {},
   "outputs": [],
   "source": [
    "# --- REPLACE THIS WITH YOUR SOLVER ---\n",
    "import numpy as np\n",
    "\n",
    "def simulate_corner_baseline(cfg):\n",
    "    # Placeholder: return dummy arrays with the right shapes/keys so plotting cells run.\n",
    "    t = np.linspace(0, cfg['t_end'], int(cfg['t_end']/cfg['dt'])+1)\n",
    "    maxspeed = np.minimum(cfg['U0']*(1+0.5*np.sin(4*np.pi*t)), cfg['U0']*5)\n",
    "    # Placeholders for 2D fields at a single snapshot\n",
    "    nx, ny = cfg['Nx'], cfg['Ny']\n",
    "    stream = np.random.rand(ny, nx) * 0.0  # replace with your streamfunction\n",
    "    vort   = np.random.randn(ny, nx) * 0.0  # replace with vorticity\n",
    "    return {'t': t, 'maxspeed': maxspeed, 'stream': stream, 'vort': vort}\n",
    "\n",
    "baseline = simulate_corner_baseline(CFG)\n",
    "baseline['t'][:5], baseline['maxspeed'][:5]"
   ]
  },
  {
   "cell_type": "markdown",
   "id": "063e8add",
   "metadata": {},
   "source": [
    "## VDM regularizer (toy testbed) stub\n",
    "**Terse:** evolve scalar `D` with `∂t D = α||∇u||² - D/τ_r + κΔD`, scale advection as `(u·∇)u → (1/(1+βD))(u·∇)u`.\n",
    "\n",
    "**Expanded:** Treat `D` as a local budget. High strain increases `D`; it relaxes/diffuses over time. Use the same numerics as baseline plus an extra scalar PDE for `D`. Validate by ablation: `β=0` should match baseline."
   ]
  },
  {
   "cell_type": "code",
   "execution_count": null,
   "id": "e2b752b2",
   "metadata": {},
   "outputs": [],
   "source": [
    "# --- REPLACE THIS WITH YOUR REGULARIZED SOLVER ---\n",
    "import numpy as np\n",
    "\n",
    "def simulate_corner_vdm(cfg):\n",
    "    beta = cfg['regularizer']['beta'] if cfg['regularizer'].get('enabled', False) else 0.0\n",
    "    t = np.linspace(0, cfg['t_end'], int(cfg['t_end']/cfg['dt'])+1)\n",
    "    # Placeholder: show a capped growth compared to baseline to illustrate expected behavior\n",
    "    maxspeed = np.minimum(cfg['U0']*(1+0.5*np.sin(4*np.pi*t)), cfg['U0']*(3.0/(1+beta)))\n",
    "    nx, ny = cfg['Nx'], cfg['Ny']\n",
    "    stream = np.random.rand(ny, nx) * 0.0\n",
    "    vort   = np.random.randn(ny, nx) * 0.0\n",
    "    return {'t': t, 'maxspeed': maxspeed, 'stream': stream, 'vort': vort}\n",
    "\n",
    "vdm = simulate_corner_vdm(CFG)\n",
    "vdm['t'][:5], vdm['maxspeed'][:5]"
   ]
  },
  {
   "cell_type": "markdown",
   "id": "caba41bf",
   "metadata": {},
   "source": [
    "## Plots"
   ]
  },
  {
   "cell_type": "code",
   "execution_count": null,
   "id": "4dfb5c93",
   "metadata": {},
   "outputs": [],
   "source": [
    "import matplotlib.pyplot as plt\n",
    "plt.figure(figsize=(6,3), dpi=150)\n",
    "plt.plot(baseline['t'], baseline['maxspeed'], label='baseline')\n",
    "plt.plot(vdm['t'], vdm['maxspeed'], label='VDM (β={})'.format(CFG['regularizer']['beta']))\n",
    "plt.xlabel('time'); plt.ylabel('max |u|'); plt.legend(); plt.title('Max speed vs time')\n",
    "plt.tight_layout(); plt.show()"
   ]
  },
  {
   "cell_type": "markdown",
   "id": "44553d4b",
   "metadata": {},
   "source": [
    "### Snapshot placeholders (replace once your solver returns real fields)"
   ]
  },
  {
   "cell_type": "code",
   "execution_count": null,
   "id": "1958b354",
   "metadata": {},
   "outputs": [],
   "source": [
    "fig, axs = plt.subplots(1,2, figsize=(8,3), dpi=150)\n",
    "axs[0].imshow(baseline['vort'], origin='lower', cmap='coolwarm')\n",
    "axs[0].set_title('Baseline vorticity (placeholder)')\n",
    "axs[1].imshow(vdm['vort'], origin='lower', cmap='coolwarm')\n",
    "axs[1].set_title('VDM vorticity (placeholder)')\n",
    "for ax in axs: ax.set_xticks([]); ax.set_yticks([])\n",
    "plt.tight_layout(); plt.show()"
   ]
  },
  {
   "cell_type": "markdown",
   "id": "b1f6da5f",
   "metadata": {},
   "source": [
    "> **Next steps:**\n",
    "- Replace stubs with your real solver.\n",
    "- Keep `CFG` as the single source of truth.\n",
    "- For ablations: set `regularizer.enabled=false` or `beta=0`.\n",
    "- For “geometry regularization”: sweep `rc` in the YAML."
   ]
  }
 ],
 "metadata": {},
 "nbformat": 4,
 "nbformat_minor": 5
}
